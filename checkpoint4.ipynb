{
 "cells": [
  {
   "cell_type": "code",
   "execution_count": 76,
   "id": "8fbbd32a",
   "metadata": {},
   "outputs": [
    {
     "data": {
      "text/plain": [
       "7"
      ]
     },
     "execution_count": 76,
     "metadata": {},
     "output_type": "execute_result"
    }
   ],
   "source": [
    "#question1\n",
    "def maximum(a, b, c):\n",
    "  \n",
    "    if (a >= b) and (a >= c):\n",
    "        largest = a\n",
    "  \n",
    "    elif (b >= a) and (b >= c):\n",
    "        largest = b\n",
    "    else:\n",
    "        largest = c\n",
    "          \n",
    "    return largest\n",
    "maximum(4,6,7)"
   ]
  },
  {
   "cell_type": "code",
   "execution_count": 11,
   "id": "57778954",
   "metadata": {},
   "outputs": [
    {
     "data": {
      "text/plain": [
       "(50, 30)"
      ]
     },
     "execution_count": 11,
     "metadata": {},
     "output_type": "execute_result"
    }
   ],
   "source": [
    "#question2\n",
    "def calculation(x,y):\n",
    "    return(x+y,x-y)\n",
    "calculation(40,10)\n"
   ]
  },
  {
   "cell_type": "code",
   "execution_count": 45,
   "id": "297c9324",
   "metadata": {},
   "outputs": [
    {
     "name": "stdout",
     "output_type": "stream",
     "text": [
      "8\n",
      "4400\n"
     ]
    },
    {
     "data": {
      "text/plain": [
       "'\"\\nfor i in l:\\n    liste_1=[]\\n    liste_2=[]\\n    if i%2==0:\\n        liste_1.append(i)\\n            \\n    else:\\n        liste_2.append(i)\\n'"
      ]
     },
     "execution_count": 45,
     "metadata": {},
     "output_type": "execute_result"
    }
   ],
   "source": [
    "#question3\n",
    "l=[7,80,1,55]\n",
    "def Sum_list(l):\n",
    "    S=0\n",
    "    for i in range(len(l)):\n",
    "        S=S+l[i]\n",
    "    return(S)\n",
    "\n",
    "def produit(l):\n",
    "    P=1\n",
    "    for i in range(len(l)):\n",
    "        P=P*l[i]\n",
    "    return(P)\n",
    "\n",
    "liste_1=[]\n",
    "liste_2=[]\n",
    "for i in range(len(l)):\n",
    "    \n",
    "    if i%2==0:\n",
    "        liste_1.append(l[i])\n",
    "    \n",
    "    else:\n",
    "        liste_2.append(l[i])\n",
    "print(Sum_list(liste_1))\n",
    "print(produit(liste_2))\n",
    "          \n",
    "\"\"\"\"\n",
    "for i in l:\n",
    "    liste_1=[]\n",
    "    liste_2=[]\n",
    "    if i%2==0:\n",
    "        liste_1.append(i)\n",
    "            \n",
    "    else:\n",
    "        liste_2.append(i)\n",
    "\"\"\"\n",
    "    \n"
   ]
  },
  {
   "cell_type": "code",
   "execution_count": 4,
   "id": "76ec0045",
   "metadata": {},
   "outputs": [
    {
     "name": "stdout",
     "output_type": "stream",
     "text": [
      "Donner une liste : o-a-t\n",
      "a-o-t\n",
      "['a', 'o', 't']\n"
     ]
    }
   ],
   "source": [
    "ch=input(\"Donner une liste : \")\n",
    "def split_sort(items):\n",
    "    items=[n for n in items.split('-')]\n",
    "    items.sort()\n",
    "    print('-'.join(items))\n",
    "    return items\n",
    "print(split_sort(ch))\n",
    "\n",
    "\n",
    "    "
   ]
  },
  {
   "cell_type": "code",
   "execution_count": 2,
   "id": "5c6905b2",
   "metadata": {},
   "outputs": [
    {
     "name": "stdout",
     "output_type": "stream",
     "text": [
      "Provide D: 100,200,20\n",
      "[18, 26, 8]\n"
     ]
    }
   ],
   "source": [
    "import math\n",
    "numbers= input(\"Provide D: \")\n",
    "numbers= numbers.split(',')\n",
    "result_list = []\n",
    "C=50\n",
    "H=30\n",
    "def calculate(x):\n",
    "        Q = round(math.sqrt(2 * C * int(x) / H))\n",
    "        return Q\n",
    "    \n",
    "    \n",
    "for i in numbers:\n",
    "    Q=calculate(i)\n",
    "    result_list.append(Q)\n",
    "print(result_list)"
   ]
  }
 ],
 "metadata": {
  "kernelspec": {
   "display_name": "Python 3",
   "language": "python",
   "name": "python3"
  },
  "language_info": {
   "codemirror_mode": {
    "name": "ipython",
    "version": 3
   },
   "file_extension": ".py",
   "mimetype": "text/x-python",
   "name": "python",
   "nbconvert_exporter": "python",
   "pygments_lexer": "ipython3",
   "version": "3.8.8"
  }
 },
 "nbformat": 4,
 "nbformat_minor": 5
}
